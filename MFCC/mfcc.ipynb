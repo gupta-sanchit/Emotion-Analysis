{
 "cells": [
  {
   "cell_type": "code",
   "execution_count": 1,
   "metadata": {},
   "outputs": [],
   "source": [
    "import warnings\n",
    "warnings.simplefilter(action='ignore')"
   ]
  },
  {
   "cell_type": "code",
   "execution_count": 2,
   "metadata": {},
   "outputs": [],
   "source": [
    "import pandas as pd\n",
    "import numpy as np\n",
    "import librosa\n",
    "from glob import glob\n",
    "from tqdm import tqdm"
   ]
  },
  {
   "cell_type": "code",
   "execution_count": 10,
   "metadata": {},
   "outputs": [],
   "source": [
    "def get_mfcc(audioFiles, n_mfcc,sr, duration):\n",
    "    df_x = np.empty(shape=(len(audioFiles), n_mfcc, 105, 1))\n",
    "    df_y = pd.DataFrame(columns=['label'], index=range(0,len(audioFiles)))\n",
    "    idx = 0\n",
    "    \n",
    "    length = sr * duration\n",
    "    \n",
    "    for file in tqdm(audioFiles):\n",
    "\n",
    "        y, _ = librosa.load(file,res_type=\"kaiser_fast\", duration=duration ,offset=0.5)\n",
    "        \n",
    "        if len(y) > length:\n",
    "            max_offset = len(y) - length\n",
    "            offset = np.random.randint(max_offset)\n",
    "            y = y[offset:(input_length+offset)]\n",
    "        else:\n",
    "            if length > len(y):\n",
    "                max_offset = length - len(y)\n",
    "                offset = np.random.randint(max_offset)\n",
    "            else:\n",
    "                offset = 0\n",
    "            y = np.pad(y, (offset, int(length) - len(y) - offset), \"constant\")\n",
    "            \n",
    "            \n",
    "        mfcc = librosa.feature.mfcc(y=y,sr=sr, n_mfcc=n_mfcc)\n",
    "        mfcc = np.expand_dims(mfcc, axis = -1)\n",
    "        df_x[idx,] = mfcc\n",
    "\n",
    "        idx += 1\n",
    "    return df_x\n",
    "def getDuration(audio):    \n",
    "    y, _ = librosa.load(audio)\n",
    "    return librosa.get_duration(y = y,sr = 44100)"
   ]
  },
  {
   "cell_type": "code",
   "execution_count": 11,
   "metadata": {},
   "outputs": [],
   "source": [
    "audioFiles = glob(\"../dataset/CREMA-D/*.wav\")"
   ]
  },
  {
   "cell_type": "code",
   "execution_count": 12,
   "metadata": {},
   "outputs": [
    {
     "name": "stderr",
     "output_type": "stream",
     "text": [
      "100%|██████████| 5/5 [00:00<00:00, 73.98it/s]"
     ]
    },
    {
     "name": "stdout",
     "output_type": "stream",
     "text": [
      "(30, 105, 1)\n",
      "(30, 105, 1)\n",
      "(30, 105, 1)\n",
      "(30, 105, 1)\n",
      "(30, 105, 1)\n"
     ]
    },
    {
     "name": "stderr",
     "output_type": "stream",
     "text": [
      "\n"
     ]
    }
   ],
   "source": [
    "n_mfcc = 30\n",
    "samplingRate = 44100\n",
    "duration = getDuration(audioFiles[0])\n",
    "\n",
    "x = get_mfcc(audioFiles,n_mfcc,samplingRate, duration)"
   ]
  },
  {
   "cell_type": "code",
   "execution_count": 9,
   "metadata": {},
   "outputs": [],
   "source": [
    "# np.save('mfcc.npy',x)"
   ]
  },
  {
   "cell_type": "code",
   "execution_count": null,
   "metadata": {},
   "outputs": [],
   "source": []
  }
 ],
 "metadata": {
  "kernelspec": {
   "display_name": "Python 3",
   "language": "python",
   "name": "python3"
  },
  "language_info": {
   "codemirror_mode": {
    "name": "ipython",
    "version": 3
   },
   "file_extension": ".py",
   "mimetype": "text/x-python",
   "name": "python",
   "nbconvert_exporter": "python",
   "pygments_lexer": "ipython3",
   "version": "3.7.2"
  }
 },
 "nbformat": 4,
 "nbformat_minor": 4
}
